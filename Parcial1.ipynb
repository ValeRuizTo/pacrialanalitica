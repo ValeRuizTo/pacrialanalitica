{
 "cells": [
  {
   "cell_type": "markdown",
   "metadata": {},
   "source": [
    "# Estadísticas en Educación en Preescolar, Básica y Media por Municipio\n",
    "\n",
    "#### Miembros\n",
    "\n",
    "Santiago Soler Prado\n",
    "\n",
    "Valentina Ruiz Torres\n",
    "\n",
    "Darek Aljuri Martinez\n",
    "\n",
    "## Relevancia de la base de datos para el análisis\n",
    "\n",
    "### Razon1\n",
    "razon1\n",
    "\n",
    "### Razon2 \n",
    "razon2\n",
    "\n",
    "## Qué tipo de información contiene la base de datos y sus características?\n",
    "\n",
    "Confirm that your dataset meets the minimum requirements (size, variable types, missing values, and outliers).\n",
    "\n",
    "### Información contenida:\n",
    "info\n",
    "\n",
    "## Utilidad para el Análisis Exploratorio de Datos (EDA):\n",
    "\n",
    "Explain how this dataset enables the application of EDA,\n",
    "missing value imputation, outlier detection, and hypothesis testing.\n",
    "\n",
    "## 2. Descrpcion de los datos\n",
    "\n",
    "### Descripcion de los datos\n",
    "Description of the dataset (source, domain, variables).\n",
    "\n",
    "### Descricpion de cada variable\n",
    "Summary statistics for each variable.\n",
    "Identification of variable types (quantitative/categorical)\n",
    "\n",
    "## 3. Visualización de los datos\n",
    "\n",
    "\n",
    "Generate visualizations to explore data distribution and relationships:\n",
    "→ Histograms for numerical variables.\n",
    "→ Bar charts for categorical variables.\n",
    "→ Boxplots to identify possible outliers.\n",
    "→ Scatter plots to examine variable relationships"
   ]
  }
 ],
 "metadata": {
  "language_info": {
   "name": "python"
  }
 },
 "nbformat": 4,
 "nbformat_minor": 2
}
